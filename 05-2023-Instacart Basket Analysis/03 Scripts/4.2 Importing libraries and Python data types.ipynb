{
 "cells": [
  {
   "cell_type": "markdown",
   "id": "3638851a",
   "metadata": {},
   "source": [
    "# 4.2 Jupyter Fundamentals Contents"
   ]
  },
  {
   "cell_type": "markdown",
   "id": "c863fc98",
   "metadata": {},
   "source": [
    "1. Importing libraries\n",
    "2. Data Types in Python\n",
    "3. Procedures with Data Types"
   ]
  },
  {
   "cell_type": "markdown",
   "id": "cdc29d80",
   "metadata": {},
   "source": [
    "# 01. Importing libraries"
   ]
  },
  {
   "cell_type": "code",
   "execution_count": 1,
   "id": "e38aa1c0",
   "metadata": {},
   "outputs": [],
   "source": [
    "# Import libraries\n",
    "import pandas as pd\n",
    "import numpy as np\n",
    "import os"
   ]
  },
  {
   "cell_type": "code",
   "execution_count": 2,
   "id": "83ee044f",
   "metadata": {},
   "outputs": [],
   "source": [
    "x = 2"
   ]
  },
  {
   "cell_type": "markdown",
   "id": "8ebe9cf5",
   "metadata": {},
   "source": [
    "# 02. Data types"
   ]
  },
  {
   "cell_type": "code",
   "execution_count": 3,
   "id": "c85b5e9c",
   "metadata": {},
   "outputs": [
    {
     "data": {
      "text/plain": [
       "2"
      ]
     },
     "execution_count": 3,
     "metadata": {},
     "output_type": "execute_result"
    }
   ],
   "source": [
    "x"
   ]
  },
  {
   "cell_type": "code",
   "execution_count": 4,
   "id": "d0e73fbc",
   "metadata": {},
   "outputs": [
    {
     "name": "stdout",
     "output_type": "stream",
     "text": [
      "2\n"
     ]
    }
   ],
   "source": [
    "print(x)"
   ]
  },
  {
   "cell_type": "code",
   "execution_count": 5,
   "id": "fd91009b",
   "metadata": {},
   "outputs": [
    {
     "data": {
      "text/plain": [
       "int"
      ]
     },
     "execution_count": 5,
     "metadata": {},
     "output_type": "execute_result"
    }
   ],
   "source": [
    "type(x)"
   ]
  },
  {
   "cell_type": "code",
   "execution_count": 6,
   "id": "b6360286",
   "metadata": {},
   "outputs": [],
   "source": [
    "y = 5.678"
   ]
  },
  {
   "cell_type": "code",
   "execution_count": 7,
   "id": "fb5989a4",
   "metadata": {},
   "outputs": [
    {
     "data": {
      "text/plain": [
       "float"
      ]
     },
     "execution_count": 7,
     "metadata": {},
     "output_type": "execute_result"
    }
   ],
   "source": [
    "type(y)"
   ]
  },
  {
   "cell_type": "code",
   "execution_count": 8,
   "id": "f337b238",
   "metadata": {},
   "outputs": [],
   "source": [
    "z = 'Brazil'"
   ]
  },
  {
   "cell_type": "code",
   "execution_count": 9,
   "id": "20fbf275",
   "metadata": {},
   "outputs": [
    {
     "data": {
      "text/plain": [
       "str"
      ]
     },
     "execution_count": 9,
     "metadata": {},
     "output_type": "execute_result"
    }
   ],
   "source": [
    "type(z)"
   ]
  },
  {
   "cell_type": "code",
   "execution_count": 10,
   "id": "c43a90c8",
   "metadata": {},
   "outputs": [
    {
     "data": {
      "text/plain": [
       "bool"
      ]
     },
     "execution_count": 10,
     "metadata": {},
     "output_type": "execute_result"
    }
   ],
   "source": [
    "type(True)"
   ]
  },
  {
   "cell_type": "code",
   "execution_count": 11,
   "id": "1ee5700b",
   "metadata": {},
   "outputs": [
    {
     "data": {
      "text/plain": [
       "bool"
      ]
     },
     "execution_count": 11,
     "metadata": {},
     "output_type": "execute_result"
    }
   ],
   "source": [
    "type(False)"
   ]
  },
  {
   "cell_type": "code",
   "execution_count": 12,
   "id": "bab745b9",
   "metadata": {},
   "outputs": [
    {
     "name": "stdout",
     "output_type": "stream",
     "text": [
      "2\n"
     ]
    }
   ],
   "source": [
    "print(x)"
   ]
  },
  {
   "cell_type": "code",
   "execution_count": 13,
   "id": "46b30d83",
   "metadata": {},
   "outputs": [
    {
     "data": {
      "text/plain": [
       "6"
      ]
     },
     "execution_count": 13,
     "metadata": {},
     "output_type": "execute_result"
    }
   ],
   "source": [
    "x + 4"
   ]
  },
  {
   "cell_type": "code",
   "execution_count": 14,
   "id": "c9bff8a5",
   "metadata": {},
   "outputs": [
    {
     "data": {
      "text/plain": [
       "7.678"
      ]
     },
     "execution_count": 14,
     "metadata": {},
     "output_type": "execute_result"
    }
   ],
   "source": [
    "x + y"
   ]
  },
  {
   "cell_type": "code",
   "execution_count": 15,
   "id": "f1f477c1",
   "metadata": {},
   "outputs": [],
   "source": [
    "x = x + 4"
   ]
  },
  {
   "cell_type": "code",
   "execution_count": 16,
   "id": "01cc1fad",
   "metadata": {},
   "outputs": [
    {
     "name": "stdout",
     "output_type": "stream",
     "text": [
      "6\n"
     ]
    }
   ],
   "source": [
    "print(x)"
   ]
  },
  {
   "cell_type": "code",
   "execution_count": 21,
   "id": "07e53f62",
   "metadata": {},
   "outputs": [],
   "source": [
    "a = 'Hello, '"
   ]
  },
  {
   "cell_type": "code",
   "execution_count": 18,
   "id": "63cef75e",
   "metadata": {},
   "outputs": [],
   "source": [
    "b = 'Marley'"
   ]
  },
  {
   "cell_type": "code",
   "execution_count": 22,
   "id": "4f89db7d",
   "metadata": {},
   "outputs": [
    {
     "data": {
      "text/plain": [
       "'Hello, Marley'"
      ]
     },
     "execution_count": 22,
     "metadata": {},
     "output_type": "execute_result"
    }
   ],
   "source": [
    "a + b"
   ]
  },
  {
   "cell_type": "code",
   "execution_count": 26,
   "id": "288924e3",
   "metadata": {},
   "outputs": [],
   "source": [
    "n = 'potato'"
   ]
  },
  {
   "cell_type": "code",
   "execution_count": 27,
   "id": "599e7641",
   "metadata": {},
   "outputs": [
    {
     "data": {
      "text/plain": [
       "'potatopotatopotatopotatopotatopotatopotatopotatopotatopotatopotatopotato'"
      ]
     },
     "execution_count": 27,
     "metadata": {},
     "output_type": "execute_result"
    }
   ],
   "source": [
    "n * 12"
   ]
  },
  {
   "cell_type": "code",
   "execution_count": 28,
   "id": "92d0e67b",
   "metadata": {},
   "outputs": [
    {
     "data": {
      "text/plain": [
       "False"
      ]
     },
     "execution_count": 28,
     "metadata": {},
     "output_type": "execute_result"
    }
   ],
   "source": [
    "x == y"
   ]
  },
  {
   "cell_type": "code",
   "execution_count": 29,
   "id": "68ff7556",
   "metadata": {},
   "outputs": [
    {
     "data": {
      "text/plain": [
       "bool"
      ]
     },
     "execution_count": 29,
     "metadata": {},
     "output_type": "execute_result"
    }
   ],
   "source": [
    "type (x == y)"
   ]
  },
  {
   "cell_type": "markdown",
   "id": "c24ff897",
   "metadata": {},
   "source": [
    "# 4.2 Task Steps"
   ]
  },
  {
   "cell_type": "code",
   "execution_count": 31,
   "id": "1f481269",
   "metadata": {},
   "outputs": [],
   "source": [
    "#Step 7 - addition and subtraction\n",
    "c = 55\n",
    "d = 45"
   ]
  },
  {
   "cell_type": "code",
   "execution_count": 32,
   "id": "aa79a536",
   "metadata": {},
   "outputs": [
    {
     "data": {
      "text/plain": [
       "100"
      ]
     },
     "execution_count": 32,
     "metadata": {},
     "output_type": "execute_result"
    }
   ],
   "source": [
    "c + d"
   ]
  },
  {
   "cell_type": "code",
   "execution_count": 33,
   "id": "ebb195f6",
   "metadata": {},
   "outputs": [],
   "source": [
    "d = d + 55"
   ]
  },
  {
   "cell_type": "code",
   "execution_count": 34,
   "id": "f2bf3292",
   "metadata": {},
   "outputs": [
    {
     "name": "stdout",
     "output_type": "stream",
     "text": [
      "100\n"
     ]
    }
   ],
   "source": [
    "print(d)"
   ]
  },
  {
   "cell_type": "code",
   "execution_count": 35,
   "id": "87888ea2",
   "metadata": {},
   "outputs": [],
   "source": [
    "e = 155"
   ]
  },
  {
   "cell_type": "code",
   "execution_count": 36,
   "id": "47ad5692",
   "metadata": {},
   "outputs": [
    {
     "data": {
      "text/plain": [
       "100"
      ]
     },
     "execution_count": 36,
     "metadata": {},
     "output_type": "execute_result"
    }
   ],
   "source": [
    "e - c"
   ]
  },
  {
   "cell_type": "code",
   "execution_count": null,
   "id": "88215297",
   "metadata": {},
   "outputs": [],
   "source": [
    "#Step 8 - divide two floating variables"
   ]
  },
  {
   "cell_type": "code",
   "execution_count": 37,
   "id": "b759ab50",
   "metadata": {},
   "outputs": [],
   "source": [
    "f = 85.31\n",
    "g = 2.46"
   ]
  },
  {
   "cell_type": "code",
   "execution_count": 38,
   "id": "d9f89f98",
   "metadata": {},
   "outputs": [
    {
     "data": {
      "text/plain": [
       "34.67886178861789"
      ]
     },
     "execution_count": 38,
     "metadata": {},
     "output_type": "execute_result"
    }
   ],
   "source": [
    "f / g"
   ]
  },
  {
   "cell_type": "code",
   "execution_count": null,
   "id": "a163470a",
   "metadata": {},
   "outputs": [],
   "source": [
    "#Step 9 - Short word"
   ]
  },
  {
   "cell_type": "code",
   "execution_count": 39,
   "id": "99093666",
   "metadata": {},
   "outputs": [],
   "source": [
    "h = 'cup'\n",
    "i = 'cake'"
   ]
  },
  {
   "cell_type": "code",
   "execution_count": 40,
   "id": "f4da84e8",
   "metadata": {},
   "outputs": [
    {
     "data": {
      "text/plain": [
       "'cupcake'"
      ]
     },
     "execution_count": 40,
     "metadata": {},
     "output_type": "execute_result"
    }
   ],
   "source": [
    "h+i"
   ]
  },
  {
   "cell_type": "code",
   "execution_count": null,
   "id": "b74c8e14",
   "metadata": {},
   "outputs": [],
   "source": [
    "#Step 10 - short sentences"
   ]
  },
  {
   "cell_type": "code",
   "execution_count": 41,
   "id": "8c5862bf",
   "metadata": {},
   "outputs": [],
   "source": [
    "j = 'hello, '\n",
    "k = 'how are you?'"
   ]
  },
  {
   "cell_type": "code",
   "execution_count": 42,
   "id": "bebd7ae1",
   "metadata": {},
   "outputs": [
    {
     "data": {
      "text/plain": [
       "'hello, how are you?'"
      ]
     },
     "execution_count": 42,
     "metadata": {},
     "output_type": "execute_result"
    }
   ],
   "source": [
    "j+k"
   ]
  },
  {
   "cell_type": "code",
   "execution_count": 47,
   "id": "c0270f1e",
   "metadata": {},
   "outputs": [],
   "source": [
    "l = 'I love '\n",
    "m = 'my dog'"
   ]
  },
  {
   "cell_type": "code",
   "execution_count": 48,
   "id": "cadf8cd8",
   "metadata": {},
   "outputs": [
    {
     "data": {
      "text/plain": [
       "'I love my dog'"
      ]
     },
     "execution_count": 48,
     "metadata": {},
     "output_type": "execute_result"
    }
   ],
   "source": [
    "l+m"
   ]
  },
  {
   "cell_type": "code",
   "execution_count": 49,
   "id": "dffaa097",
   "metadata": {},
   "outputs": [
    {
     "data": {
      "text/plain": [
       "'cupcakecupcakecupcakecupcakecupcakecupcakecupcakecupcakecupcakecupcakecupcakecupcakecupcakecupcakecupcakecupcakecupcakecupcakecupcakecupcakecupcakecupcakecupcakecupcakecupcakecupcakecupcakecupcakecupcakecupcakecupcakecupcakecupcakecupcakecupcakecupcakecupcakecupcakecupcakecupcakecupcakecupcakecupcakecupcakecupcakecupcakecupcakecupcakecupcakecupcakecupcakecupcakecupcakecupcakecupcakecupcakecupcakecupcakecupcakecupcakecupcakecupcakecupcakecupcakecupcakecupcakecupcakecupcakecupcakecupcakecupcakecupcakecupcakecupcakecupcakecupcakecupcakecupcakecupcakecupcakecupcakecupcakecupcakecupcakecupcakecupcakecupcakecupcakecupcakecupcakecupcakecupcakecupcakecupcakecupcakecupcakecupcakecupcakecupcakecupcake'"
      ]
     },
     "execution_count": 49,
     "metadata": {},
     "output_type": "execute_result"
    }
   ],
   "source": [
    "(h+i)*100"
   ]
  },
  {
   "cell_type": "code",
   "execution_count": null,
   "id": "77c36329",
   "metadata": {},
   "outputs": [],
   "source": []
  }
 ],
 "metadata": {
  "kernelspec": {
   "display_name": "Python 3 (ipykernel)",
   "language": "python",
   "name": "python3"
  },
  "language_info": {
   "codemirror_mode": {
    "name": "ipython",
    "version": 3
   },
   "file_extension": ".py",
   "mimetype": "text/x-python",
   "name": "python",
   "nbconvert_exporter": "python",
   "pygments_lexer": "ipython3",
   "version": "3.10.9"
  }
 },
 "nbformat": 4,
 "nbformat_minor": 5
}
